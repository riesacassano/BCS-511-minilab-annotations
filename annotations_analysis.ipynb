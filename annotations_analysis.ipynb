{
 "cells": [
  {
   "cell_type": "code",
   "execution_count": 2,
   "id": "2db8c9f8-131d-4f74-b6f8-15678425da02",
   "metadata": {
    "collapsed": true,
    "jupyter": {
     "outputs_hidden": true
    },
    "tags": []
   },
   "outputs": [
    {
     "name": "stderr",
     "output_type": "stream",
     "text": [
      "\n",
      "Bad key text.latex.preview in file /Users/riesacassano/opt/anaconda3/lib/python3.7/site-packages/matplotlib/mpl-data/stylelib/_classic_test.mplstyle, line 123 ('text.latex.preview : False')\n",
      "You probably need to get an updated matplotlibrc file from\n",
      "https://github.com/matplotlib/matplotlib/blob/v3.5.0/matplotlibrc.template\n",
      "or from the matplotlib source distribution\n",
      "\n",
      "Bad key mathtext.fallback_to_cm in file /Users/riesacassano/opt/anaconda3/lib/python3.7/site-packages/matplotlib/mpl-data/stylelib/_classic_test.mplstyle, line 155 ('mathtext.fallback_to_cm : True  # When True, use symbols from the Computer Modern')\n",
      "You probably need to get an updated matplotlibrc file from\n",
      "https://github.com/matplotlib/matplotlib/blob/v3.5.0/matplotlibrc.template\n",
      "or from the matplotlib source distribution\n",
      "\n",
      "Bad key savefig.jpeg_quality in file /Users/riesacassano/opt/anaconda3/lib/python3.7/site-packages/matplotlib/mpl-data/stylelib/_classic_test.mplstyle, line 418 ('savefig.jpeg_quality: 95       # when a jpeg is saved, the default quality parameter.')\n",
      "You probably need to get an updated matplotlibrc file from\n",
      "https://github.com/matplotlib/matplotlib/blob/v3.5.0/matplotlibrc.template\n",
      "or from the matplotlib source distribution\n",
      "\n",
      "Bad key keymap.all_axes in file /Users/riesacassano/opt/anaconda3/lib/python3.7/site-packages/matplotlib/mpl-data/stylelib/_classic_test.mplstyle, line 466 ('keymap.all_axes : a                 # enable all axes')\n",
      "You probably need to get an updated matplotlibrc file from\n",
      "https://github.com/matplotlib/matplotlib/blob/v3.5.0/matplotlibrc.template\n",
      "or from the matplotlib source distribution\n",
      "\n",
      "Bad key animation.avconv_path in file /Users/riesacassano/opt/anaconda3/lib/python3.7/site-packages/matplotlib/mpl-data/stylelib/_classic_test.mplstyle, line 477 ('animation.avconv_path: avconv     # Path to avconv binary. Without full path')\n",
      "You probably need to get an updated matplotlibrc file from\n",
      "https://github.com/matplotlib/matplotlib/blob/v3.5.0/matplotlibrc.template\n",
      "or from the matplotlib source distribution\n",
      "\n",
      "Bad key animation.avconv_args in file /Users/riesacassano/opt/anaconda3/lib/python3.7/site-packages/matplotlib/mpl-data/stylelib/_classic_test.mplstyle, line 479 ('animation.avconv_args:            # Additional arguments to pass to avconv')\n",
      "You probably need to get an updated matplotlibrc file from\n",
      "https://github.com/matplotlib/matplotlib/blob/v3.5.0/matplotlibrc.template\n",
      "or from the matplotlib source distribution\n"
     ]
    }
   ],
   "source": [
    "import numpy as np\n",
    "import pandas as pd\n",
    "import matplotlib.pyplot as plt\n",
    "import seaborn as sns\n",
    "from sklearn.metrics import cohen_kappa_score"
   ]
  },
  {
   "cell_type": "markdown",
   "id": "18de3550-2626-4282-93f3-51c1bad6462c",
   "metadata": {},
   "source": [
    "Load the data and the ground truths."
   ]
  },
  {
   "cell_type": "code",
   "execution_count": 3,
   "id": "225e9126-f043-465a-80ba-723f436f2d75",
   "metadata": {},
   "outputs": [],
   "source": [
    "data = pd.read_csv('data/responses_binarized_long.csv')\n",
    "gt_periodic = pd.read_csv('data/ground_truth_phrase_boundaries_periodic.csv')\n",
    "gt_tracked = pd.read_csv('data/ground_truth_phrase_boundaries_tracked.csv')"
   ]
  },
  {
   "cell_type": "code",
   "execution_count": 4,
   "id": "0ac077d7-6fd0-499a-b1ec-9f0c0adc56ac",
   "metadata": {},
   "outputs": [
    {
     "data": {
      "text/html": [
       "<div>\n",
       "<style scoped>\n",
       "    .dataframe tbody tr th:only-of-type {\n",
       "        vertical-align: middle;\n",
       "    }\n",
       "\n",
       "    .dataframe tbody tr th {\n",
       "        vertical-align: top;\n",
       "    }\n",
       "\n",
       "    .dataframe thead th {\n",
       "        text-align: right;\n",
       "    }\n",
       "</style>\n",
       "<table border=\"1\" class=\"dataframe\">\n",
       "  <thead>\n",
       "    <tr style=\"text-align: right;\">\n",
       "      <th></th>\n",
       "      <th>exp_subject_id</th>\n",
       "      <th>scram_cond</th>\n",
       "      <th>stim_num</th>\n",
       "      <th>run</th>\n",
       "      <th>time</th>\n",
       "      <th>response</th>\n",
       "    </tr>\n",
       "  </thead>\n",
       "  <tbody>\n",
       "    <tr>\n",
       "      <td>0</td>\n",
       "      <td>377777</td>\n",
       "      <td>8B</td>\n",
       "      <td>2</td>\n",
       "      <td>1</td>\n",
       "      <td>0</td>\n",
       "      <td>0</td>\n",
       "    </tr>\n",
       "    <tr>\n",
       "      <td>1</td>\n",
       "      <td>377777</td>\n",
       "      <td>8B</td>\n",
       "      <td>2</td>\n",
       "      <td>1</td>\n",
       "      <td>1</td>\n",
       "      <td>0</td>\n",
       "    </tr>\n",
       "    <tr>\n",
       "      <td>2</td>\n",
       "      <td>377777</td>\n",
       "      <td>8B</td>\n",
       "      <td>2</td>\n",
       "      <td>1</td>\n",
       "      <td>2</td>\n",
       "      <td>0</td>\n",
       "    </tr>\n",
       "    <tr>\n",
       "      <td>3</td>\n",
       "      <td>377777</td>\n",
       "      <td>8B</td>\n",
       "      <td>2</td>\n",
       "      <td>1</td>\n",
       "      <td>3</td>\n",
       "      <td>0</td>\n",
       "    </tr>\n",
       "    <tr>\n",
       "      <td>4</td>\n",
       "      <td>377777</td>\n",
       "      <td>8B</td>\n",
       "      <td>2</td>\n",
       "      <td>1</td>\n",
       "      <td>4</td>\n",
       "      <td>0</td>\n",
       "    </tr>\n",
       "  </tbody>\n",
       "</table>\n",
       "</div>"
      ],
      "text/plain": [
       "   exp_subject_id scram_cond  stim_num  run  time  response\n",
       "0          377777         8B         2    1     0         0\n",
       "1          377777         8B         2    1     1         0\n",
       "2          377777         8B         2    1     2         0\n",
       "3          377777         8B         2    1     3         0\n",
       "4          377777         8B         2    1     4         0"
      ]
     },
     "execution_count": 4,
     "metadata": {},
     "output_type": "execute_result"
    }
   ],
   "source": [
    "data.head()"
   ]
  },
  {
   "cell_type": "code",
   "execution_count": 5,
   "id": "9c4c1407-aa60-4fc0-bc09-fb7241d27752",
   "metadata": {},
   "outputs": [
    {
     "data": {
      "text/html": [
       "<div>\n",
       "<style scoped>\n",
       "    .dataframe tbody tr th:only-of-type {\n",
       "        vertical-align: middle;\n",
       "    }\n",
       "\n",
       "    .dataframe tbody tr th {\n",
       "        vertical-align: top;\n",
       "    }\n",
       "\n",
       "    .dataframe thead th {\n",
       "        text-align: right;\n",
       "    }\n",
       "</style>\n",
       "<table border=\"1\" class=\"dataframe\">\n",
       "  <thead>\n",
       "    <tr style=\"text-align: right;\">\n",
       "      <th></th>\n",
       "      <th>scram_cond</th>\n",
       "      <th>stim_num</th>\n",
       "      <th>time</th>\n",
       "      <th>response</th>\n",
       "    </tr>\n",
       "  </thead>\n",
       "  <tbody>\n",
       "    <tr>\n",
       "      <td>0</td>\n",
       "      <td>1B</td>\n",
       "      <td>1</td>\n",
       "      <td>0</td>\n",
       "      <td>0</td>\n",
       "    </tr>\n",
       "    <tr>\n",
       "      <td>1</td>\n",
       "      <td>1B</td>\n",
       "      <td>1</td>\n",
       "      <td>1</td>\n",
       "      <td>0</td>\n",
       "    </tr>\n",
       "    <tr>\n",
       "      <td>2</td>\n",
       "      <td>1B</td>\n",
       "      <td>1</td>\n",
       "      <td>2</td>\n",
       "      <td>0</td>\n",
       "    </tr>\n",
       "    <tr>\n",
       "      <td>3</td>\n",
       "      <td>1B</td>\n",
       "      <td>1</td>\n",
       "      <td>3</td>\n",
       "      <td>0</td>\n",
       "    </tr>\n",
       "    <tr>\n",
       "      <td>4</td>\n",
       "      <td>1B</td>\n",
       "      <td>1</td>\n",
       "      <td>4</td>\n",
       "      <td>0</td>\n",
       "    </tr>\n",
       "  </tbody>\n",
       "</table>\n",
       "</div>"
      ],
      "text/plain": [
       "  scram_cond  stim_num  time  response\n",
       "0         1B         1     0         0\n",
       "1         1B         1     1         0\n",
       "2         1B         1     2         0\n",
       "3         1B         1     3         0\n",
       "4         1B         1     4         0"
      ]
     },
     "execution_count": 5,
     "metadata": {},
     "output_type": "execute_result"
    }
   ],
   "source": [
    "gt_periodic.head()"
   ]
  },
  {
   "cell_type": "code",
   "execution_count": 5,
   "id": "d478d88b-ad09-4160-a4ea-1b2487690b28",
   "metadata": {},
   "outputs": [],
   "source": [
    "subject_ids = data['exp_subject_id'].unique()"
   ]
  },
  {
   "cell_type": "code",
   "execution_count": 117,
   "id": "149fce85-262c-4682-9406-7dc743c9620f",
   "metadata": {},
   "outputs": [],
   "source": [
    "conditions = ['intact', '8B', '2B', '1B']\n",
    "c = conditions[2]\n",
    "stim_num = 2\n",
    "\n",
    "# get the ground truth in array form\n",
    "#this_gt = gt_periodic[gt_periodic['scram_cond']==c]\n",
    "this_gt = gt_tracked[gt_tracked['scram_cond']==c]\n",
    "this_gt = this_gt[this_gt['stim_num']==stim_num]\n",
    "gt_array = this_gt['response'].to_numpy()\n",
    "\n",
    "# get the data in matrix form\n",
    "this_data = data[data['scram_cond']==c]\n",
    "this_data = this_data[this_data['stim_num']==stim_num]\n",
    "this_data = this_data[this_data['run']==2] # select only run 2\n",
    "data_array = this_data['response'].to_numpy()\n",
    "data_array = np.reshape(data_array, (subject_ids.shape[0], gt_array.shape[0]))"
   ]
  },
  {
   "cell_type": "code",
   "execution_count": 37,
   "id": "9219c604-1b47-4ba3-9f7f-11c7a86d8059",
   "metadata": {},
   "outputs": [
    {
     "name": "stdout",
     "output_type": "stream",
     "text": [
      "(86,)\n",
      "(43, 86)\n"
     ]
    }
   ],
   "source": [
    "print(gt_array.shape)\n",
    "print(data_array.shape)"
   ]
  },
  {
   "cell_type": "markdown",
   "id": "3506e569-5ce3-46b0-9424-66a3c78fb46e",
   "metadata": {},
   "source": [
    "In this form, the data are in a matrix of size `number of subjects x number of seconds`. We came back into python to do lagged \"correlation\" for each subject with the ground truth. (We're not using Pearson correlation, we're using Cohen's kappa)."
   ]
  },
  {
   "cell_type": "code",
   "execution_count": 118,
   "id": "02bcac50-608d-4890-bd64-46f09a32224a",
   "metadata": {},
   "outputs": [
    {
     "data": {
      "image/png": "[encoded data removed]",
      "text/plain": [
       "<Figure size 720x432 with 1 Axes>"
      ]
     },
     "metadata": {
      "needs_background": "light"
     },
     "output_type": "display_data"
    }
   ],
   "source": [
    "lags = range(-2,5)\n",
    "kappa_values = np.zeros((subject_ids.shape[0],len(lags)))\n",
    "\n",
    "for i in range(subject_ids.shape[0]):\n",
    "#for i in range(1):\n",
    "    this_sub = data_array[i,:]\n",
    "    \n",
    "    for l in range(len(lags)):\n",
    "        lag = lags[l]\n",
    "    \n",
    "        if lag > 0:\n",
    "            this_sub_crop = this_sub[lag:]\n",
    "            this_gt = gt_array[:-lag]\n",
    "            \n",
    "        elif lag < 0:\n",
    "            this_sub_crop = this_sub[:lag]\n",
    "            this_gt = gt_array[-lag:]\n",
    "        \n",
    "        elif lag == 0:\n",
    "            this_sub_crop = this_sub\n",
    "            this_gt = gt_array\n",
    "            \n",
    "        kappa_values[i,l] = cohen_kappa_score(this_sub_crop,this_gt)\n",
    "\n",
    "fig, ax = plt.subplots(figsize=(10,6))\n",
    "sns.violinplot(data = kappa_values)\n",
    "ax.set_xticklabels(lags)\n",
    "ax.set_xlabel('lag')\n",
    "ax.set_ylabel(\"Cohen's kappa\")\n",
    "ax.set_title('%s %d'%(c, stim_num))\n",
    "#plt.savefig('plots/%s_%d_lag_kappa.png'%(c,stim_num),dpi=300);\n",
    "#plt.savefig('plots/%s_%d_lag_kappa_periodic.png'%(c,stim_num),dpi=300);\n",
    "plt.savefig('plots/%s_%d_lag_kappa_tracked.png'%(c,stim_num),dpi=300);"
   ]
  },
  {
   "cell_type": "code",
   "execution_count": null,
   "id": "aa8d75f0-f399-48f3-90c8-0097e72200f0",
   "metadata": {},
   "outputs": [],
   "source": [
    "# big loop to show all on one plot\n",
    "\n",
    "#conditions = ['intact', '8B']\n",
    "conditions = ['2B', '1B'] \n",
    "num_stim = 3 # 3 stimuli for each condition\n",
    "\n",
    "lags = range(-2,5)\n",
    "\n",
    "# create the figure here\n",
    "fig, ax = plt.subplots(2, 3, figsize=(20,10), sharey=True)\n",
    "ax[0,0].set_ylabel(\"Cohen's kappa\")\n",
    "ax[1,0].set_ylabel(\"Cohen's kappa\")\n",
    "#fig.tight_layout()\n",
    "\n",
    "for cond in range(len(conditions)):\n",
    "    c = conditions[cond]\n",
    "    \n",
    "    for n in range(num_stim):\n",
    "        stim_num = n + 1\n",
    "\n",
    "        # get the ground truth in array form\n",
    "        this_gt = gt_periodic[gt_periodic['scram_cond']==c]\n",
    "        #this_gt = gt_tracked[gt_tracked['scram_cond']==c]\n",
    "        this_gt = this_gt[this_gt['stim_num']==stim_num]\n",
    "        gt_array = this_gt['response'].to_numpy()\n",
    "\n",
    "        # get the data in matrix form\n",
    "        this_data = data[data['scram_cond']==c]\n",
    "        this_data = this_data[this_data['stim_num']==stim_num]\n",
    "        this_data = this_data[this_data['run']==2] # select only run 2\n",
    "        data_array = this_data['response'].to_numpy()\n",
    "        data_array = np.reshape(data_array, (subject_ids.shape[0], gt_array.shape[0]))\n",
    "        \n",
    "        kappa_values = np.zeros((subject_ids.shape[0],len(lags)))\n",
    "\n",
    "        for i in range(subject_ids.shape[0]):\n",
    "            this_sub = data_array[i,:]\n",
    "    \n",
    "            for l in range(len(lags)):\n",
    "                lag = lags[l]\n",
    "    \n",
    "                if lag > 0:\n",
    "                    this_sub_crop = this_sub[lag:]\n",
    "                    this_gt = gt_array[:-lag]\n",
    "            \n",
    "                elif lag < 0:\n",
    "                    this_sub_crop = this_sub[:lag]\n",
    "                    this_gt = gt_array[-lag:]\n",
    "        \n",
    "                elif lag == 0:\n",
    "                    this_sub_crop = this_sub\n",
    "                    this_gt = gt_array\n",
    "            \n",
    "                kappa_values[i,l] = cohen_kappa_score(this_sub_crop,this_gt)\n",
    "\n",
    "                \n",
    "        #sns.violinplot(data = kappa_values, ax = ax[cond,n])\n",
    "        for s in range(subject_ids.shape[0]):\n",
    "            ax[cond,n].plot(lags, kappa_values[s,:], color='black', alpha=0.2)\n",
    "            ax[cond,n].scatter(lags, kappa_values[s,:], color='black', alpha=0.2)\n",
    "            \n",
    "        ax[cond,n].plot(lags, np.mean(kappa_values,axis=0), color='blue')\n",
    "        ax[cond,n].scatter(lags, np.mean(kappa_values,axis=0), color='blue')\n",
    "        \n",
    "        #ax[cond,n].set_xticklabels(lags)\n",
    "        ax[cond,n].set_xlabel('lag')\n",
    "        ax[cond,n].set_title('%s %d'%(c, stim_num))\n",
    "\n",
    "plt.savefig('plots/more_scrambled_all_lag_kappa_traces_periodic.png',dpi=500);       \n",
    "#plt.savefig('plots/less_scrambled_all_lag_kappa_traces.png',dpi=500);"
   ]
  },
  {
   "cell_type": "code",
   "execution_count": null,
   "id": "eee97a13-7a46-4b55-9f8f-b21b49565406",
   "metadata": {},
   "outputs": [],
   "source": []
  }
 ],
 "metadata": {
  "kernelspec": {
   "display_name": "Python 3 (ipykernel)",
   "language": "python",
   "name": "python3"
  },
  "language_info": {
   "codemirror_mode": {
    "name": "ipython",
    "version": 3
   },
   "file_extension": ".py",
   "mimetype": "text/x-python",
   "name": "python",
   "nbconvert_exporter": "python",
   "pygments_lexer": "ipython3",
   "version": "3.7.4"
  }
 },
 "nbformat": 4,
 "nbformat_minor": 5
}
